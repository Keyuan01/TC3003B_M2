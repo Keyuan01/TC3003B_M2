{
 "cells": [
  {
   "cell_type": "code",
   "execution_count": 2,
   "metadata": {},
   "outputs": [],
   "source": [
    "from tensorflow import keras\n",
    "from tensorflow import keras\n",
    "import numpy as np\n",
    "from tensorflow.keras.models import load_model\n",
    "from tensorflow.keras.utils import load_img\n",
    "import matplotlib.pyplot as plt"
   ]
  },
  {
   "cell_type": "code",
   "execution_count": 3,
   "metadata": {},
   "outputs": [],
   "source": [
    "model = keras.models.load_model('./model1.h5')"
   ]
  },
  {
   "cell_type": "code",
   "execution_count": 4,
   "metadata": {},
   "outputs": [
    {
     "name": "stdout",
     "output_type": "stream",
     "text": [
      "Model: \"sequential_5\"\n",
      "_________________________________________________________________\n",
      " Layer (type)                Output Shape              Param #   \n",
      "=================================================================\n",
      " conv2d_6 (Conv2D)           (None, 126, 126, 32)      896       \n",
      "                                                                 \n",
      " max_pooling2d_6 (MaxPooling  (None, 63, 63, 32)       0         \n",
      " 2D)                                                             \n",
      "                                                                 \n",
      " conv2d_7 (Conv2D)           (None, 61, 61, 32)        9248      \n",
      "                                                                 \n",
      " max_pooling2d_7 (MaxPooling  (None, 30, 30, 32)       0         \n",
      " 2D)                                                             \n",
      "                                                                 \n",
      " flatten_1 (Flatten)         (None, 28800)             0         \n",
      "                                                                 \n",
      " dense_12 (Dense)            (None, 96)                2764896   \n",
      "                                                                 \n",
      " dropout_8 (Dropout)         (None, 96)                0         \n",
      "                                                                 \n",
      " dense_13 (Dense)            (None, 32)                3104      \n",
      "                                                                 \n",
      " dense_14 (Dense)            (None, 7)                 231       \n",
      "                                                                 \n",
      "=================================================================\n",
      "Total params: 2,778,375\n",
      "Trainable params: 2,778,375\n",
      "Non-trainable params: 0\n",
      "_________________________________________________________________\n"
     ]
    }
   ],
   "source": [
    "model.summary()"
   ]
  },
  {
   "cell_type": "code",
   "execution_count": 9,
   "metadata": {},
   "outputs": [],
   "source": [
    "def predict(dir):\n",
    "    # img = cv2.imread('./test/Audi/23.jpg')\n",
    "    image = load_img(dir, target_size=(128,128))\n",
    "    img = np.array(image)\n",
    "    img = img/255.0\n",
    "    img = img.reshape(1,128,128,3)\n",
    "    arr = np.round(model.predict(img), 4)\n",
    "    name = [\"Audi\", \"Hyundai Creta\", \"Mahindra Scorpio\", \"Rolls Royce\", \"Swift\", \"Tata Safari\", \"Toyota Innova\"]\n",
    "    for i in arr:\n",
    "        print(arr[i])\n",
    "        # if(arr[i] == np.max(arr)):\n",
    "        #     msg = name[i]\n",
    "        #     break\n",
    "    plt.imshow(image)\n",
    "    plt.axis(\"off\")\n",
    "    # plt.title(msg)"
   ]
  },
  {
   "cell_type": "code",
   "execution_count": 10,
   "metadata": {},
   "outputs": [
    {
     "name": "stdout",
     "output_type": "stream",
     "text": [
      "1/1 [==============================] - 0s 37ms/step\n"
     ]
    },
    {
     "ename": "IndexError",
     "evalue": "arrays used as indices must be of integer (or boolean) type",
     "output_type": "error",
     "traceback": [
      "\u001b[1;31m---------------------------------------------------------------------------\u001b[0m",
      "\u001b[1;31mIndexError\u001b[0m                                Traceback (most recent call last)",
      "\u001b[1;32mc:\\Users\\Keyuan\\OneDrive\\Escritorio\\Octavo_semestre\\Desarrollo_de_aplicaciones_avanzadas_de_ciencias_computacionales\\M2_IA\\visualizacion.ipynb 单元格 5\u001b[0m in \u001b[0;36m<cell line: 1>\u001b[1;34m()\u001b[0m\n\u001b[1;32m----> <a href='vscode-notebook-cell:/c%3A/Users/Keyuan/OneDrive/Escritorio/Octavo_semestre/Desarrollo_de_aplicaciones_avanzadas_de_ciencias_computacionales/M2_IA/visualizacion.ipynb#W4sZmlsZQ%3D%3D?line=0'>1</a>\u001b[0m predict(\u001b[39m'\u001b[39;49m\u001b[39m./dataset/test/Toyota Innova/16.jpg\u001b[39;49m\u001b[39m'\u001b[39;49m)\n",
      "\u001b[1;32mc:\\Users\\Keyuan\\OneDrive\\Escritorio\\Octavo_semestre\\Desarrollo_de_aplicaciones_avanzadas_de_ciencias_computacionales\\M2_IA\\visualizacion.ipynb 单元格 5\u001b[0m in \u001b[0;36mpredict\u001b[1;34m(dir)\u001b[0m\n\u001b[0;32m      <a href='vscode-notebook-cell:/c%3A/Users/Keyuan/OneDrive/Escritorio/Octavo_semestre/Desarrollo_de_aplicaciones_avanzadas_de_ciencias_computacionales/M2_IA/visualizacion.ipynb#W4sZmlsZQ%3D%3D?line=7'>8</a>\u001b[0m name \u001b[39m=\u001b[39m [\u001b[39m\"\u001b[39m\u001b[39mAudi\u001b[39m\u001b[39m\"\u001b[39m, \u001b[39m\"\u001b[39m\u001b[39mHyundai Creta\u001b[39m\u001b[39m\"\u001b[39m, \u001b[39m\"\u001b[39m\u001b[39mMahindra Scorpio\u001b[39m\u001b[39m\"\u001b[39m, \u001b[39m\"\u001b[39m\u001b[39mRolls Royce\u001b[39m\u001b[39m\"\u001b[39m, \u001b[39m\"\u001b[39m\u001b[39mSwift\u001b[39m\u001b[39m\"\u001b[39m, \u001b[39m\"\u001b[39m\u001b[39mTata Safari\u001b[39m\u001b[39m\"\u001b[39m, \u001b[39m\"\u001b[39m\u001b[39mToyota Innova\u001b[39m\u001b[39m\"\u001b[39m]\n\u001b[0;32m      <a href='vscode-notebook-cell:/c%3A/Users/Keyuan/OneDrive/Escritorio/Octavo_semestre/Desarrollo_de_aplicaciones_avanzadas_de_ciencias_computacionales/M2_IA/visualizacion.ipynb#W4sZmlsZQ%3D%3D?line=8'>9</a>\u001b[0m \u001b[39mfor\u001b[39;00m i \u001b[39min\u001b[39;00m arr:\n\u001b[1;32m---> <a href='vscode-notebook-cell:/c%3A/Users/Keyuan/OneDrive/Escritorio/Octavo_semestre/Desarrollo_de_aplicaciones_avanzadas_de_ciencias_computacionales/M2_IA/visualizacion.ipynb#W4sZmlsZQ%3D%3D?line=9'>10</a>\u001b[0m     \u001b[39mprint\u001b[39m(arr[i])\n\u001b[0;32m     <a href='vscode-notebook-cell:/c%3A/Users/Keyuan/OneDrive/Escritorio/Octavo_semestre/Desarrollo_de_aplicaciones_avanzadas_de_ciencias_computacionales/M2_IA/visualizacion.ipynb#W4sZmlsZQ%3D%3D?line=10'>11</a>\u001b[0m     \u001b[39m# if(arr[i] == np.max(arr)):\u001b[39;00m\n\u001b[0;32m     <a href='vscode-notebook-cell:/c%3A/Users/Keyuan/OneDrive/Escritorio/Octavo_semestre/Desarrollo_de_aplicaciones_avanzadas_de_ciencias_computacionales/M2_IA/visualizacion.ipynb#W4sZmlsZQ%3D%3D?line=11'>12</a>\u001b[0m     \u001b[39m#     msg = name[i]\u001b[39;00m\n\u001b[0;32m     <a href='vscode-notebook-cell:/c%3A/Users/Keyuan/OneDrive/Escritorio/Octavo_semestre/Desarrollo_de_aplicaciones_avanzadas_de_ciencias_computacionales/M2_IA/visualizacion.ipynb#W4sZmlsZQ%3D%3D?line=12'>13</a>\u001b[0m     \u001b[39m#     break\u001b[39;00m\n\u001b[0;32m     <a href='vscode-notebook-cell:/c%3A/Users/Keyuan/OneDrive/Escritorio/Octavo_semestre/Desarrollo_de_aplicaciones_avanzadas_de_ciencias_computacionales/M2_IA/visualizacion.ipynb#W4sZmlsZQ%3D%3D?line=13'>14</a>\u001b[0m plt\u001b[39m.\u001b[39mimshow(image)\n",
      "\u001b[1;31mIndexError\u001b[0m: arrays used as indices must be of integer (or boolean) type"
     ]
    }
   ],
   "source": [
    "predict('./dataset/test/Toyota Innova/16.jpg')"
   ]
  }
 ],
 "metadata": {
  "kernelspec": {
   "display_name": "Python 3",
   "language": "python",
   "name": "python3"
  },
  "language_info": {
   "codemirror_mode": {
    "name": "ipython",
    "version": 3
   },
   "file_extension": ".py",
   "mimetype": "text/x-python",
   "name": "python",
   "nbconvert_exporter": "python",
   "pygments_lexer": "ipython3",
   "version": "3.10.6"
  },
  "orig_nbformat": 4
 },
 "nbformat": 4,
 "nbformat_minor": 2
}
